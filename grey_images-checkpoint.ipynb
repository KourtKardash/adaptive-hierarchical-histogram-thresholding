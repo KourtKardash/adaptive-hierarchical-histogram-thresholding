{
 "cells": [
  {
   "cell_type": "code",
   "execution_count": 578,
   "id": "b5e1f982-93d2-44dc-b54e-d4c3d95451b9",
   "metadata": {
    "tags": []
   },
   "outputs": [],
   "source": [
    "import argparse\n",
    "import math\n",
    "import numpy as np\n",
    "import skimage.io\n",
    "import skimage.transform"
   ]
  },
  {
   "cell_type": "code",
   "execution_count": 639,
   "id": "d20f6fee-4c3b-470b-bde9-b68c5050dc34",
   "metadata": {
    "tags": []
   },
   "outputs": [],
   "source": [
    "N = 256"
   ]
  },
  {
   "cell_type": "code",
   "execution_count": 766,
   "id": "e05f924f-4cc1-45ea-81be-c0b2fc63d425",
   "metadata": {
    "tags": []
   },
   "outputs": [],
   "source": [
    "img = skimage.io.imread(\"tower.bmp\")"
   ]
  },
  {
   "cell_type": "code",
   "execution_count": 767,
   "id": "382b61bd-7366-4c9b-987e-c36e5dd7755a",
   "metadata": {
    "tags": []
   },
   "outputs": [],
   "source": [
    "height, width = img.shape[:2]"
   ]
  },
  {
   "cell_type": "code",
   "execution_count": 768,
   "id": "46f3f170-d653-446f-bbfd-0ac8c7524cee",
   "metadata": {
    "tags": []
   },
   "outputs": [],
   "source": [
    "if len(img.shape) == 3:\n",
    "    img = img[:, :, 0]"
   ]
  },
  {
   "cell_type": "code",
   "execution_count": 769,
   "id": "756961c8-ed51-486c-a866-75cd58314510",
   "metadata": {
    "tags": []
   },
   "outputs": [],
   "source": [
    "H = [0] * N\n",
    "for i in range (N) :\n",
    "    H[i] = 0"
   ]
  },
  {
   "cell_type": "code",
   "execution_count": 770,
   "id": "db7ffaaa-5a78-4814-9dc8-5a3d7334d6d0",
   "metadata": {
    "tags": []
   },
   "outputs": [],
   "source": [
    "for i in range (height) :\n",
    "    for j in range (width) :\n",
    "        H[img[i][j]] += 1"
   ]
  },
  {
   "cell_type": "code",
   "execution_count": 771,
   "id": "81cddbc1-9a9d-4a60-bf2e-b52f31bf346e",
   "metadata": {
    "tags": []
   },
   "outputs": [],
   "source": [
    "H_first = []\n",
    "for i in range(N) :\n",
    "    H_first.append((H[i], i, i))"
   ]
  },
  {
   "cell_type": "code",
   "execution_count": 772,
   "id": "35a9f739-dd6b-42d5-8255-0b906d9328d9",
   "metadata": {
    "tags": []
   },
   "outputs": [],
   "source": [
    "import matplotlib.pyplot as plt"
   ]
  },
  {
   "cell_type": "code",
   "execution_count": 773,
   "id": "27c95358-badc-4983-bc88-fe7746166cf7",
   "metadata": {
    "tags": []
   },
   "outputs": [],
   "source": [
    "a=np.arange(0,N,1)"
   ]
  },
  {
   "cell_type": "code",
   "execution_count": 774,
   "id": "8d8e8886-f000-4459-b78e-436a4e73c46d",
   "metadata": {
    "tags": []
   },
   "outputs": [],
   "source": [
    "b = [0]*N"
   ]
  },
  {
   "cell_type": "code",
   "execution_count": 775,
   "id": "402d923f-0096-49b6-9e2d-d8f9ad58bf10",
   "metadata": {
    "tags": []
   },
   "outputs": [],
   "source": [
    "for i in range(N) :\n",
    "    b[i] = H_first[i][0]"
   ]
  },
  {
   "cell_type": "code",
   "execution_count": 776,
   "id": "b684f118-ed27-4c87-bd76-ffdb32864dba",
   "metadata": {
    "tags": []
   },
   "outputs": [
    {
     "data": {
      "image/png": "[encoded data removed]",
      "text/plain": [
       "<Figure size 640x480 with 1 Axes>"
      ]
     },
     "metadata": {},
     "output_type": "display_data"
    }
   ],
   "source": [
    "plt.bar(a, b, color=\"green\")\n",
    "plt.show()"
   ]
  },
  {
   "cell_type": "code",
   "execution_count": 777,
   "id": "aedc8ebd-0c46-47a4-84e3-bbc1146f99fb",
   "metadata": {
    "tags": []
   },
   "outputs": [],
   "source": [
    "def GetValleys(H) :\n",
    "    n = len(H)\n",
    "    valleys = []\n",
    "    if H[0][0] < H[1][0] :\n",
    "        valleys.append(H[0][1])\n",
    "    if H[0][0] == H[1][0] :\n",
    "        k = 1\n",
    "        while H[0][0] == H[k][0]:\n",
    "            k += 1\n",
    "        k -= 1\n",
    "        if H[k+1][0] > H[k][0]:\n",
    "            valleys.append(H[k // 2][1])\n",
    "    flag = True\n",
    "    i = 1\n",
    "    while i < n-1 :\n",
    "        if (H[i][0] < H[i-1][0]) and (H[i][0] < H[i+1][0]) :\n",
    "            valleys.append(H[i][1])\n",
    "        elif H[i][0] < H[i-1][0] :\n",
    "            k = 1\n",
    "            while k + i < n and H[i][0] == H[i+k][0] :\n",
    "                k += 1\n",
    "            k -= 1\n",
    "            if k + i == n - 1 :\n",
    "                valleys.append(H[i + k // 2][1])\n",
    "                flag = False\n",
    "            elif H[i + k][0] < H[i + 1 + k][0] :\n",
    "                valleys.append(H[i + k // 2][1])\n",
    "            i += k\n",
    "        i += 1\n",
    "    if flag == True and H[n-1][0] < H[n-2][0] :\n",
    "        valleys.append(H[n-1][1])\n",
    "    return valleys"
   ]
  },
  {
   "cell_type": "code",
   "execution_count": 778,
   "id": "f1d1bcf2-24ab-4e77-98b5-cc4b61b6ed7e",
   "metadata": {
    "tags": []
   },
   "outputs": [],
   "source": [
    "def GetNextHist(H, valleys, w) :\n",
    "    if len(valleys) == 0 :\n",
    "        return H\n",
    "    new_H = []\n",
    "    left = 0\n",
    "    right = 0\n",
    "    index = 0\n",
    "    if valleys[0] == H[0][1]:\n",
    "        index = 1\n",
    "    for r in range (index, len(valleys)) :\n",
    "        for m in range (len(H)) :\n",
    "            (h, l, lR) = H[m]\n",
    "            if l == valleys[r] :\n",
    "                right = m\n",
    "                break\n",
    "        if H[right][1] - H[left][1] <= w :\n",
    "            bin = GetMergeBin(H, left, right)\n",
    "            new_H.append(bin)\n",
    "        else :\n",
    "            #print(left, right)\n",
    "            bins = GetMergeSetofBins(H, left, right, w)\n",
    "            new_H.extend(bins)\n",
    "        if new_H[len(new_H)-1] == H[right] : \n",
    "            left = right\n",
    "            new_H.pop()\n",
    "        else : left = right + 1\n",
    "    if left < len(H):\n",
    "        if H[len(H)-1][1] - H[left][1] <= w:\n",
    "            bin = GetMergeBin(H, left, len(H)-1)\n",
    "            new_H.append(bin)\n",
    "        else :\n",
    "            bins = GetMergeSetofBins(H, left, len(H)-1, w)\n",
    "            new_H.extend(bins)\n",
    "    return new_H\n",
    "def GetMergeBin(H, left, right) :\n",
    "    count = 0\n",
    "    int = 0\n",
    "    num = 0\n",
    "    for i in range (left, right + 1) : \n",
    "        count += H[i][0]\n",
    "        num += 1\n",
    "        int += H[i][1]\n",
    "    #print(num)\n",
    "    bin = (count, int // num, H[right][2])\n",
    "    return bin\n",
    "def GetMergeSetofBins(H, left, right, w) :\n",
    "    bins = []\n",
    "    num = 0\n",
    "    for i in range (left, right + 1) : \n",
    "        num += 1\n",
    "        bins.append(H[i])\n",
    "    min_index = FindMinDistance(bins)\n",
    "    a = bins[min_index+1][1] - bins[min_index][1]\n",
    "    while (a <= w) :\n",
    "        bins_1 = []\n",
    "        for i in range(min_index) :\n",
    "            bins_1.append(bins[i])\n",
    "        bins_1.append((bins[min_index][0] + bins[min_index + 1][0],\n",
    "                       (bins[min_index][1] + bins[min_index + 1][1]) // 2,\n",
    "                       bins[min_index+1][2]))\n",
    "        for i in range (min_index + 2, len(bins)) :\n",
    "            bins_1.append(bins[i])\n",
    "        bins = bins_1\n",
    "        min_index = FindMinDistance(bins)\n",
    "        if min_index == -1 : break\n",
    "        a = bins[min_index+1][1] - bins[min_index][1]\n",
    "    return bins\n",
    "def FindMinDistance(bins) :\n",
    "    min_index = -1\n",
    "    if (len(bins) == 1): return min_index\n",
    "    min_distance = 256\n",
    "    for i in range(len(bins) - 1) :\n",
    "        if bins[i+1][1] - bins[i][1] < min_distance :\n",
    "            min_distance = bins[i+1][1] - bins[i][1]\n",
    "            min_index = i\n",
    "    return min_index"
   ]
  },
  {
   "cell_type": "code",
   "execution_count": 779,
   "id": "77e28a7c-95ec-46fc-94f3-0d7d0a76170a",
   "metadata": {
    "tags": []
   },
   "outputs": [],
   "source": [
    "valleys = GetValleys(H_first)\n",
    "H_second = GetNextHist(H_first, valleys, 15)"
   ]
  },
  {
   "cell_type": "code",
   "execution_count": 780,
   "id": "41ac339d-fe8c-4071-a76e-6223dbd81923",
   "metadata": {
    "tags": []
   },
   "outputs": [],
   "source": [
    "a = [0]*len(H_second)\n",
    "b = [0]*len(H_second)\n",
    "for i in range(len(H_second)) :\n",
    "    a[i] = H_second[i][1]\n",
    "    b[i] = H_second[i][0]\n"
   ]
  },
  {
   "cell_type": "code",
   "execution_count": 781,
   "id": "7ab1fbe1-c0eb-4735-91a5-ab9262e5b59e",
   "metadata": {
    "tags": []
   },
   "outputs": [
    {
     "data": {
      "image/png": "[encoded data removed]",
      "text/plain": [
       "<Figure size 640x480 with 1 Axes>"
      ]
     },
     "metadata": {},
     "output_type": "display_data"
    }
   ],
   "source": [
    "plt.bar(a,b, color=\"green\")\n",
    "plt.show()"
   ]
  },
  {
   "cell_type": "code",
   "execution_count": 782,
   "id": "78add204-420b-4438-bf7e-b69538ef45bc",
   "metadata": {
    "tags": []
   },
   "outputs": [],
   "source": [
    "valleys = GetValleys(H_second)"
   ]
  },
  {
   "cell_type": "code",
   "execution_count": 783,
   "id": "2a0317bb-72b9-4e06-8997-4cadb6b10a4a",
   "metadata": {
    "tags": []
   },
   "outputs": [],
   "source": [
    "H_third = GetNextHist(H_second, valleys, 15)"
   ]
  },
  {
   "cell_type": "code",
   "execution_count": 784,
   "id": "53cacd10-c30f-4f12-bf69-9f1cecb55ab4",
   "metadata": {
    "tags": []
   },
   "outputs": [],
   "source": [
    "a = [0]*len(H_third)\n",
    "b = [0]*len(H_third)\n",
    "for i in range(len(H_third)) :\n",
    "    a[i] = H_third[i][1]\n",
    "    b[i] = H_third[i][0]"
   ]
  },
  {
   "cell_type": "code",
   "execution_count": 785,
   "id": "1f1a248f-fa64-4572-88cc-ec9e06b3f418",
   "metadata": {
    "tags": []
   },
   "outputs": [
    {
     "data": {
      "image/png": "[encoded data removed]",
      "text/plain": [
       "<Figure size 640x480 with 1 Axes>"
      ]
     },
     "metadata": {},
     "output_type": "display_data"
    }
   ],
   "source": [
    "plt.bar(a,b, color=\"green\")\n",
    "plt.show()"
   ]
  },
  {
   "cell_type": "code",
   "execution_count": 786,
   "id": "77f93c88-a6ba-49bf-ab67-ab9f2b00b84c",
   "metadata": {
    "tags": []
   },
   "outputs": [],
   "source": [
    "valleys = GetValleys(H_third)\n",
    "H_fourth = GetNextHist(H_third, valleys, 15)"
   ]
  },
  {
   "cell_type": "code",
   "execution_count": 787,
   "id": "041e8cb3-de88-40c4-8bb6-1684a9611f7a",
   "metadata": {
    "tags": []
   },
   "outputs": [],
   "source": [
    "a = [0]*len(H_fourth)\n",
    "b = [0]*len(H_fourth)\n",
    "for i in range(len(H_fourth)) :\n",
    "    a[i] = H_fourth[i][1]\n",
    "    b[i] = H_fourth[i][0]"
   ]
  },
  {
   "cell_type": "code",
   "execution_count": 788,
   "id": "ecb7274a-c0cc-4e9e-a1d5-8be8463fceab",
   "metadata": {
    "tags": []
   },
   "outputs": [
    {
     "data": {
      "image/png": "[encoded data removed]",
      "text/plain": [
       "<Figure size 640x480 with 1 Axes>"
      ]
     },
     "metadata": {},
     "output_type": "display_data"
    }
   ],
   "source": [
    "plt.bar(a, b, color=\"green\")\n",
    "plt.show()"
   ]
  },
  {
   "cell_type": "code",
   "execution_count": 789,
   "id": "4ede0115-66ad-41a0-a913-0de18aea2385",
   "metadata": {
    "tags": []
   },
   "outputs": [],
   "source": [
    "valleys = GetValleys(H_fourth)\n",
    "H_fifth = GetNextHist(H_fourth, valleys, 15)"
   ]
  },
  {
   "cell_type": "code",
   "execution_count": 790,
   "id": "048cdcf0-5114-4d9a-9a41-c5ca1793f089",
   "metadata": {
    "tags": []
   },
   "outputs": [],
   "source": [
    "a = [0]*len(H_fifth)\n",
    "b = [0]*len(H_fifth)\n",
    "for i in range(len(H_fifth)) :\n",
    "    a[i] = H_fifth[i][1]\n",
    "    b[i] = H_fifth[i][0]"
   ]
  },
  {
   "cell_type": "code",
   "execution_count": 791,
   "id": "c74ae19a-6705-4e5d-bb9d-45aab571f3ad",
   "metadata": {
    "tags": []
   },
   "outputs": [
    {
     "data": {
      "image/png": "[encoded data removed]",
      "text/plain": [
       "<Figure size 640x480 with 1 Axes>"
      ]
     },
     "metadata": {},
     "output_type": "display_data"
    }
   ],
   "source": [
    "plt.bar(a, b, color=\"green\")\n",
    "plt.show()"
   ]
  },
  {
   "cell_type": "code",
   "execution_count": 792,
   "id": "af843dae-e6e9-4736-813f-11280f06be47",
   "metadata": {
    "tags": []
   },
   "outputs": [],
   "source": [
    "valleys = GetValleys(H_fifth)\n",
    "H_sixth = GetNextHist(H_fifth, valleys, 15)"
   ]
  },
  {
   "cell_type": "code",
   "execution_count": 793,
   "id": "a79aeab4-1337-487e-acb4-27af946a3f50",
   "metadata": {
    "tags": []
   },
   "outputs": [],
   "source": [
    "a = [0]*len(H_sixth)\n",
    "b = [0]*len(H_sixth)\n",
    "for i in range(len(H_sixth)) :\n",
    "    a[i] = H_sixth[i][1]\n",
    "    b[i] = H_sixth[i][0]"
   ]
  },
  {
   "cell_type": "code",
   "execution_count": 794,
   "id": "8c36aee3-cb6b-4a16-8e78-73bff5a655d5",
   "metadata": {
    "tags": []
   },
   "outputs": [
    {
     "data": {
      "image/png": "[encoded data removed]",
      "text/plain": [
       "<Figure size 640x480 with 1 Axes>"
      ]
     },
     "metadata": {},
     "output_type": "display_data"
    }
   ],
   "source": [
    "plt.bar(a, b, color=\"green\")\n",
    "plt.show()"
   ]
  },
  {
   "cell_type": "code",
   "execution_count": 795,
   "id": "b9fafbf6-1760-4c89-987a-81df6f1d29ee",
   "metadata": {
    "tags": []
   },
   "outputs": [
    {
     "name": "stdout",
     "output_type": "stream",
     "text": [
      "[(8975, 11, 21), (9068, 32, 45), (10052, 59, 67), (10660, 81, 92), (8265, 103, 117), (6113, 129, 138), (3674, 146, 152), (4211, 162, 170), (4401, 181, 195), (3818, 208, 217), (2330, 224, 230), (5233, 245, 255)]\n"
     ]
    }
   ],
   "source": [
    "print(H_sixth)"
   ]
  },
  {
   "cell_type": "code",
   "execution_count": 796,
   "id": "ea9babd3-4c86-4af3-93c2-2a358ae4680b",
   "metadata": {
    "tags": []
   },
   "outputs": [],
   "source": [
    "for i in range (height) :\n",
    "    for j in range (width) :\n",
    "        color = img[i][j]\n",
    "        for k in range(len(H_fifth)):\n",
    "            if color <= H_fifth[k][2] :\n",
    "                img[i][j] = H_fifth[k][1]\n",
    "                break\n",
    "res = np.clip(img, 0, 255)\n",
    "res = res.astype(np.uint8)\n",
    "skimage.io.imsave(\"output.bmp\", res)"
   ]
  },
  {
   "cell_type": "code",
   "execution_count": 797,
   "id": "e13d9d93-722d-443b-af26-b4b418dcdadf",
   "metadata": {},
   "outputs": [
    {
     "name": "stdout",
     "output_type": "stream",
     "text": [
      "[(129, 6113), (146, 3674), (162, 4211), (181, 4401), (103, 8265), (81, 10660), (59, 10052), (32, 9068), (208, 3818), (245, 5233), (11, 8975), (224, 2330)]\n"
     ]
    }
   ],
   "source": [
    "arr = []\n",
    "for i in range (height) :\n",
    "    for j in range (width) :\n",
    "        color = img[i][j]\n",
    "        flag = True\n",
    "        for k in range (len(arr)) :\n",
    "            if arr[k][0] == color:\n",
    "                count = arr[k][1]\n",
    "                arr[k] = (color, count+1)\n",
    "                flag = False\n",
    "                break\n",
    "        if flag == True:\n",
    "            arr.append((color, 1))\n",
    "print(arr)"
   ]
  },
  {
   "cell_type": "code",
   "execution_count": 798,
   "id": "d17c44ec-e744-4e08-9f83-d43eaff55aeb",
   "metadata": {},
   "outputs": [
    {
     "name": "stdout",
     "output_type": "stream",
     "text": [
      "76800\n"
     ]
    }
   ],
   "source": [
    "general_number = 0\n",
    "for i in range (len(arr)) :\n",
    "    general_number += arr[i][1]\n",
    "print(general_number)"
   ]
  },
  {
   "cell_type": "code",
   "execution_count": 799,
   "id": "f38829c0-ffa6-4ec6-a282-7cacc770757d",
   "metadata": {},
   "outputs": [
    {
     "name": "stdout",
     "output_type": "stream",
     "text": [
      "[]\n"
     ]
    }
   ],
   "source": [
    "Nd = general_number//1000\n",
    "Td = 30 \n",
    "small_areas = []\n",
    "for i in range(len(arr)) :\n",
    "    if arr[i][1] < Nd :\n",
    "        small_areas.append(arr[i])\n",
    "print(small_areas)"
   ]
  },
  {
   "cell_type": "code",
   "execution_count": 800,
   "id": "f58430ea-ed48-4a0d-93ac-db52dec97f32",
   "metadata": {
    "tags": []
   },
   "outputs": [],
   "source": [
    "while len(small_areas) != 0 :\n",
    "    print(small_areas)\n",
    "    print(arr)\n",
    "    (color, number) = small_areas[0]\n",
    "    small_areas.remove((color, number))\n",
    "    arr_index = -1\n",
    "    min_distance = N\n",
    "    for i in range (len(arr)) :\n",
    "        if arr[i] != (color, number) and abs(int(arr[i][0]) - int(color)) < min_distance :\n",
    "            min_distance = abs(int(arr[i][0]) - int(color))\n",
    "            arr_index = i\n",
    "    if any([item == arr[arr_index] for item in small_areas]) :\n",
    "        small_areas.remove(arr[arr_index])\n",
    "    count = arr[arr_index][1]\n",
    "    count += number\n",
    "    arr[arr_index] = (arr[arr_index][0], count)\n",
    "    base_elem = arr[arr_index]\n",
    "    arr.remove((color, number))\n",
    "    \n",
    "    if base_elem[1] < Nd :\n",
    "        small_areas.append(base_elem)\n",
    "    else :\n",
    "        for i in range (height) :\n",
    "            for k in range (width) :\n",
    "                if img[i][k] == color :\n",
    "                    img[i][k] = base_elem[0]"
   ]
  },
  {
   "cell_type": "code",
   "execution_count": 801,
   "id": "0fd62e57-87d4-4cd8-b823-dac3a8e24b6a",
   "metadata": {
    "tags": []
   },
   "outputs": [
    {
     "name": "stdout",
     "output_type": "stream",
     "text": [
      "[129, 146, 162, 181, 103, 81, 59, 32, 208, 245, 11, 224]\n"
     ]
    }
   ],
   "source": [
    "arr = [tup[0] for tup in arr]\n",
    "print(arr)"
   ]
  },
  {
   "cell_type": "code",
   "execution_count": 802,
   "id": "a278a269-cc96-44e3-9b1c-66338c9b5313",
   "metadata": {
    "tags": []
   },
   "outputs": [],
   "source": [
    "def Dist(arr) :\n",
    "    min_dist = N\n",
    "    c1 = -1\n",
    "    c2 = -1\n",
    "    length = len(arr)\n",
    "    for i in range (0, length) :\n",
    "        for j in range (i+1, length):\n",
    "            if abs(int(arr[j]) - int(arr[i])) < min_dist:\n",
    "                min_dist = abs(int(arr[j]) - int(arr[i]))\n",
    "                c1 = i\n",
    "                c2 = j\n",
    "    return (min_dist, c1, c2)"
   ]
  },
  {
   "cell_type": "code",
   "execution_count": 803,
   "id": "3fc627d9-d57c-40c7-aedd-65d8c04f841b",
   "metadata": {
    "tags": []
   },
   "outputs": [
    {
     "name": "stdout",
     "output_type": "stream",
     "text": [
      "ok\n",
      "16 1 2\n"
     ]
    }
   ],
   "source": [
    "if (a := Dist(arr))[0] < 100 : print(\"ok\")\n",
    "print(a[0], a[1], a[2])"
   ]
  },
  {
   "cell_type": "code",
   "execution_count": 804,
   "id": "ec4392be-fe95-4227-8129-a1fcd5fbf12f",
   "metadata": {
    "tags": []
   },
   "outputs": [
    {
     "name": "stdout",
     "output_type": "stream",
     "text": [
      "16 1 2\n",
      "[129, 181, 103, 81, 59, 32, 208, 245, 11, 224, 154]\n",
      "16 6 9\n",
      "[129, 181, 103, 81, 59, 32, 245, 11, 154, 216]\n",
      "21 5 7\n",
      "[129, 181, 103, 81, 59, 245, 154, 216, 21]\n",
      "22 2 3\n",
      "[129, 181, 59, 245, 154, 216, 21, 92]\n",
      "25 0 4\n",
      "[181, 59, 245, 216, 21, 92, 141]\n",
      "29 2 3\n",
      "[181, 59, 21, 92, 141, 230]\n"
     ]
    }
   ],
   "source": [
    "while (a := Dist(arr))[0] < Td :\n",
    "    print(a[0], a[1], a[2])\n",
    "    i1 = a[1]\n",
    "    i2 = a[2] #min(arr[c1][0], arr[c2][0]) + (max((arr[c1][0], arr[c2][0])) - min(arr[c1][0], arr[c2][0]))//2\n",
    "    color1 = arr[i1]\n",
    "    color2 = arr[i2]\n",
    "    arr.remove(color1)\n",
    "    arr.remove(color2)\n",
    "    arr.append(min(color1, color2) + abs(int(color1)-int(color2)) // 2)\n",
    "    for i in range (height) :\n",
    "        for k in range (width) :\n",
    "            if img[i][k] == color1 or img[i][k] == color2 :\n",
    "                img[i][k] = arr[len(arr)-1]\n",
    "    print(arr)"
   ]
  },
  {
   "cell_type": "code",
   "execution_count": 805,
   "id": "610c1e2f-90f7-4563-aebd-2b9c1e446288",
   "metadata": {
    "tags": []
   },
   "outputs": [],
   "source": [
    "res = np.clip(img, 0, 255)\n",
    "res = res.astype(np.uint8)\n",
    "skimage.io.imsave(\"output1.bmp\", res)"
   ]
  },
  {
   "cell_type": "code",
   "execution_count": null,
   "id": "121c7d5d-5308-47ae-a7c9-11f647564761",
   "metadata": {},
   "outputs": [],
   "source": []
  }
 ],
 "metadata": {
  "kernelspec": {
   "display_name": "Python 3 (ipykernel)",
   "language": "python",
   "name": "python3"
  },
  "language_info": {
   "codemirror_mode": {
    "name": "ipython",
    "version": 3
   },
   "file_extension": ".py",
   "mimetype": "text/x-python",
   "name": "python",
   "nbconvert_exporter": "python",
   "pygments_lexer": "ipython3",
   "version": "3.11.4"
  }
 },
 "nbformat": 4,
 "nbformat_minor": 5
}
